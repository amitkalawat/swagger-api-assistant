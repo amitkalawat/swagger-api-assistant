{
 "cells": [
  {
   "cell_type": "markdown",
   "id": "a9fdab2e-cd5e-4ee8-b2a3-6db21cd958b0",
   "metadata": {},
   "source": [
    "## RAG with Bedrock Agents\n",
    "\n",
    "RAG architecture have proven effective at leveraging knowledge bases to enhance foundation model outputs. However, for more complex queries that require reasoning over diverse information sources, a single monolithic RAG model can face limitations around relevance, latency, and coherence. Multi-agent architectures offer a powerful way to overcome these limitations by factoring RAG into specialized components. By dividing responsibilities like query understanding, retrieval, ranking, and language modeling across dedicated agents, each component can focus on its core capability using tailored models and data sources. This improves the overall relevance of retrieved information and generated responses.\n",
    "\n",
    "In this lab, we are going to extend the Technical document assistant from previou Naive RAG lab and build an agent that can generate API flow diagram, create unit testing code, on top of original knowledge retrieval capabilities. Behind the scenes, the agent uses foundation model from Amazon Bedrock to orchestrate a set of tools and APIs as illustrated in the diagram below:\n",
    "\n",
    "![Agent](../static/advance-agent-rag.png)\n"
   ]
  },
  {
   "cell_type": "markdown",
   "id": "286fd078-3d93-4d94-92f8-0703006db38f",
   "metadata": {},
   "source": [
    "## Pre-req\n",
    "You must run the notebook in [lab01](../lab01-managed-rag/) to load the necessary data to S3, and stor the parameters for this lab."
   ]
  },
  {
   "cell_type": "code",
   "execution_count": 1,
   "id": "214f8ee4-6b45-4afb-807e-357a364dda4f",
   "metadata": {},
   "outputs": [
    {
     "name": "stderr",
     "output_type": "stream",
     "text": [
      "/tmp/ipykernel_946/2588010541.py:2: UserWarning: Warning: if you did not run lab01, please go back and run the lab01 notebook!\n",
      "  warnings.warn(\"Warning: if you did not run lab01, please go back and run the lab01 notebook!\")\n"
     ]
    }
   ],
   "source": [
    "import warnings\n",
    "warnings.warn(\"Warning: if you did not run lab01, please go back and run the lab01 notebook!\") "
   ]
  },
  {
   "cell_type": "markdown",
   "id": "7dce9ad9-a8ae-440e-b177-ac5a29236edb",
   "metadata": {},
   "source": [
    "### > Setup and initalize"
   ]
  },
  {
   "cell_type": "code",
   "execution_count": 2,
   "id": "b13f327c-3fa6-41d9-919e-a719be1c1e06",
   "metadata": {},
   "outputs": [
    {
     "name": "stdout",
     "output_type": "stream",
     "text": [
      "Requirement already satisfied: opensearch-py==2.3.1 in /opt/conda/lib/python3.10/site-packages (2.3.1)\n",
      "Requirement already satisfied: urllib3<2,>=1.21.1 in /opt/conda/lib/python3.10/site-packages (from opensearch-py==2.3.1) (1.26.18)\n",
      "Requirement already satisfied: requests<3.0.0,>=2.4.0 in /opt/conda/lib/python3.10/site-packages (from opensearch-py==2.3.1) (2.31.0)\n",
      "Requirement already satisfied: six in /opt/conda/lib/python3.10/site-packages (from opensearch-py==2.3.1) (1.16.0)\n",
      "Requirement already satisfied: python-dateutil in /opt/conda/lib/python3.10/site-packages (from opensearch-py==2.3.1) (2.9.0)\n",
      "Requirement already satisfied: certifi>=2022.12.07 in /opt/conda/lib/python3.10/site-packages (from opensearch-py==2.3.1) (2024.2.2)\n",
      "Requirement already satisfied: charset-normalizer<4,>=2 in /opt/conda/lib/python3.10/site-packages (from requests<3.0.0,>=2.4.0->opensearch-py==2.3.1) (3.3.2)\n",
      "Requirement already satisfied: idna<4,>=2.5 in /opt/conda/lib/python3.10/site-packages (from requests<3.0.0,>=2.4.0->opensearch-py==2.3.1) (3.7)\n",
      "Note: you may need to restart the kernel to use updated packages.\n",
      "Requirement already satisfied: retrying==1.3.4 in /opt/conda/lib/python3.10/site-packages (1.3.4)\n",
      "Requirement already satisfied: six>=1.7.0 in /opt/conda/lib/python3.10/site-packages (from retrying==1.3.4) (1.16.0)\n",
      "Note: you may need to restart the kernel to use updated packages.\n"
     ]
    }
   ],
   "source": [
    "%pip install -U opensearch-py==2.3.1\n",
    "%pip install -U retrying==1.3.4"
   ]
  },
  {
   "cell_type": "code",
   "execution_count": 32,
   "id": "7380e0b2-0589-4205-9758-6da9a67a1edf",
   "metadata": {},
   "outputs": [],
   "source": [
    "import boto3\n",
    "from botocore.config import Config\n",
    "import time\n",
    "import random\n",
    "import pprint as pp\n",
    "import uuid\n",
    "import json\n",
    "from retrying import retry\n",
    "from utility import create_bedrock_execution_role, create_oss_policy_attach_bedrock_execution_role, create_policies_in_oss\n",
    "from opensearchpy import OpenSearch, RequestsHttpConnection, AWSV4SignerAuth\n",
    "\n",
    "# auth for opensearch\n",
    "boto3_config = Config(\n",
    "        connect_timeout=1, read_timeout=300,\n",
    "        retries={'max_attempts': 1})\n",
    "\n",
    "boto3_session = boto3.Session()\n",
    "region_name = boto3_session.region_name\n",
    "sts_client = boto3.client('sts')\n",
    "account_id = sts_client.get_caller_identity()[\"Account\"]\n",
    "credentials = boto3_session.get_credentials()\n",
    "\n",
    "# opensearch service\n",
    "service = 'aoss'\n",
    "awsauth = auth = AWSV4SignerAuth(credentials, region_name, service)\n",
    "\n",
    "\n",
    "bedrock_agent_client = boto3_session.client('bedrock-agent', region_name=region_name)\n",
    "\n",
    "# bucket and parameter stored from lab01\n",
    "%store -r bucket\n",
    "%store -r prefix\n",
    "%store -r data_dir\n",
    "%store -r yml_dir\n",
    "%store -r uml_dir"
   ]
  },
  {
   "cell_type": "markdown",
   "id": "db990f08-015e-465b-9267-69d9738f4d10",
   "metadata": {},
   "source": [
    "## Create a vector store - OpenSearch Serverless index\n",
    "\n",
    "### Step 1 - Create OSS policies and collection\n",
    "Firt of all we have to create a vector store. In this section we will use *Amazon OpenSerach serverless.*\n",
    "\n",
    "Amazon OpenSearch Serverless is a serverless option in Amazon OpenSearch Service. As a developer, you can use OpenSearch Serverless to run petabyte-scale workloads without configuring, managing, and scaling OpenSearch clusters. You get the same interactive millisecond response times as OpenSearch Service with the simplicity of a serverless environment. Pay only for what you use by automatically scaling resources to provide the right amount of capacity for your application—without impacting data ingestion."
   ]
  },
  {
   "cell_type": "code",
   "execution_count": 4,
   "id": "d693b588-e7cd-4ba3-9ce1-fb5d7599fd4d",
   "metadata": {},
   "outputs": [],
   "source": [
    "suffix = random.randrange(200, 2000)\n",
    "vector_store_name = f'swagger-api-{suffix}'\n",
    "index_name = f\"swagger-api-{suffix}\"\n",
    "aoss_client = boto3_session.client('opensearchserverless')\n",
    "bedrock_kb_execution_role = create_bedrock_execution_role(bucket_name=bucket)\n",
    "bedrock_kb_execution_role_arn = bedrock_kb_execution_role['Role']['Arn']"
   ]
  },
  {
   "cell_type": "code",
   "execution_count": 5,
   "id": "574555e4-786a-4179-a7d6-17c1f31a3e05",
   "metadata": {},
   "outputs": [],
   "source": [
    "# create security, network and data access policies within OSS\n",
    "encryption_policy, network_policy, access_policy = create_policies_in_oss(vector_store_name=vector_store_name,\n",
    "                       aoss_client=aoss_client,\n",
    "                       bedrock_kb_execution_role_arn=bedrock_kb_execution_role_arn)\n",
    "collection = aoss_client.create_collection(name=vector_store_name,type='VECTORSEARCH')"
   ]
  },
  {
   "cell_type": "code",
   "execution_count": 6,
   "id": "ce39bac5-253f-4a38-b3f8-8f2daf513133",
   "metadata": {},
   "outputs": [
    {
     "name": "stdout",
     "output_type": "stream",
     "text": [
      "{'ResponseMetadata': {'HTTPHeaders': {'connection': 'keep-alive',\n",
      "                                      'content-length': '308',\n",
      "                                      'content-type': 'application/x-amz-json-1.0',\n",
      "                                      'date': 'Sat, 01 Jun 2024 15:08:00 GMT',\n",
      "                                      'x-amzn-requestid': 'c64dcec1-41c4-4a60-be9e-0c78156fe8b4'},\n",
      "                      'HTTPStatusCode': 200,\n",
      "                      'RequestId': 'c64dcec1-41c4-4a60-be9e-0c78156fe8b4',\n",
      "                      'RetryAttempts': 0},\n",
      " 'createCollectionDetail': {'arn': 'arn:aws:aoss:us-west-2:376678947624:collection/rtqh9fegbjnpovbbg257',\n",
      "                            'createdDate': 1717254480892,\n",
      "                            'id': 'rtqh9fegbjnpovbbg257',\n",
      "                            'kmsKeyArn': 'auto',\n",
      "                            'lastModifiedDate': 1717254480892,\n",
      "                            'name': 'swagger-api-1467',\n",
      "                            'standbyReplicas': 'ENABLED',\n",
      "                            'status': 'CREATING',\n",
      "                            'type': 'VECTORSEARCH'}}\n"
     ]
    }
   ],
   "source": [
    "pp.pprint(collection)\n",
    "time.sleep(10)"
   ]
  },
  {
   "cell_type": "code",
   "execution_count": 7,
   "id": "50fe47de-4852-482d-97da-110265e90671",
   "metadata": {},
   "outputs": [
    {
     "name": "stdout",
     "output_type": "stream",
     "text": [
      "rtqh9fegbjnpovbbg257.us-west-2.aoss.amazonaws.com\n"
     ]
    }
   ],
   "source": [
    "collection_id = collection['createCollectionDetail']['id']\n",
    "host = collection_id + '.' + region_name + '.aoss.amazonaws.com'\n",
    "print(host)"
   ]
  },
  {
   "cell_type": "code",
   "execution_count": 8,
   "id": "176be68c-c749-4df1-a998-663889acabfe",
   "metadata": {},
   "outputs": [
    {
     "name": "stdout",
     "output_type": "stream",
     "text": [
      "Opensearch serverless arn:  arn:aws:iam::376678947624:policy/AmazonBedrockOSSPolicyForKnowledgeBase_538\n"
     ]
    }
   ],
   "source": [
    "# create oss policy and attach it to Bedrock execution role\n",
    "create_oss_policy_attach_bedrock_execution_role(collection_id=collection_id,\n",
    "                                                bedrock_kb_execution_role=bedrock_kb_execution_role)"
   ]
  },
  {
   "cell_type": "markdown",
   "id": "8f35d671-1aa4-415b-87f0-6beb336fcfc0",
   "metadata": {},
   "source": [
    "### Step 2 - Create vector index"
   ]
  },
  {
   "cell_type": "code",
   "execution_count": 9,
   "id": "7625ad3f-9822-4ca7-9fec-3aa93c7f305b",
   "metadata": {},
   "outputs": [],
   "source": [
    "index_name = f\"bedrock-sample-index-{suffix}\"\n",
    "body_json = {\n",
    "   \"settings\": {\n",
    "      \"index.knn\": \"true\"\n",
    "   },\n",
    "   \"mappings\": {\n",
    "      \"properties\": {\n",
    "         \"vector\": {\n",
    "            \"type\": \"knn_vector\",\n",
    "            \"dimension\": 1536,\n",
    "            \"method\": {\n",
    "                \"name\": \"hnsw\",\n",
    "                \"space_type\": \"innerproduct\",\n",
    "                \"engine\": \"faiss\",\n",
    "                \"parameters\": {\n",
    "                  \"ef_construction\": 256,\n",
    "                  \"m\": 48\n",
    "                }\n",
    "             }\n",
    "         },\n",
    "         \"text\": {\n",
    "            \"type\": \"text\"\n",
    "         },\n",
    "         \"text-metadata\": {\n",
    "            \"type\": \"text\"         \n",
    "         }\n",
    "      }\n",
    "   }\n",
    "}\n",
    "# Build the OpenSearch client\n",
    "oss_client = OpenSearch(\n",
    "    hosts=[{'host': host, 'port': 443}],\n",
    "    http_auth=awsauth,\n",
    "    use_ssl=True,\n",
    "    verify_certs=True,\n",
    "    connection_class=RequestsHttpConnection,\n",
    "    timeout=300\n",
    ")\n",
    "# # It can take up to a minute for data access rules to be enforced\n",
    "time.sleep(60)"
   ]
  },
  {
   "cell_type": "code",
   "execution_count": 10,
   "id": "f23e0b4a-1189-477a-84ab-de83741169ad",
   "metadata": {},
   "outputs": [
    {
     "name": "stdout",
     "output_type": "stream",
     "text": [
      "\n",
      "Creating index:\n",
      "{'acknowledged': True, 'shards_acknowledged': True, 'index': 'bedrock-sample-index-1467'}\n"
     ]
    }
   ],
   "source": [
    "# Create index\n",
    "response = oss_client.indices.create(index=index_name, body=json.dumps(body_json))\n",
    "print('\\nCreating index:')\n",
    "print(response)"
   ]
  },
  {
   "cell_type": "markdown",
   "id": "fde8bac3-2f34-4260-a26e-2c0efbb94da4",
   "metadata": {},
   "source": [
    "## Create Knowledge Base\n",
    "Steps:\n",
    "- initialize Open search serverless configuration which will include collection ARN, index name, vector field, text field and metadata field.\n",
    "- initialize chunking strategy, based on which KB will split the documents into pieces of size equal to the chunk size mentioned in the `chunkingStrategyConfiguration`.\n",
    "- initialize the s3 configuration, which will be used to create the data source object later.\n",
    "- initialize the Titan embeddings model ARN, as this will be used to create the embeddings for each of the text chunks."
   ]
  },
  {
   "cell_type": "code",
   "execution_count": 38,
   "id": "d6c0b3cf-77f6-4a1b-97cd-a576575beb28",
   "metadata": {},
   "outputs": [],
   "source": [
    "opensearchServerlessConfiguration = {\n",
    "            \"collectionArn\": collection[\"createCollectionDetail\"]['arn'],\n",
    "            \"vectorIndexName\": index_name,\n",
    "            \"fieldMapping\": {\n",
    "                \"vectorField\": \"vector\",\n",
    "                \"textField\": \"text\",\n",
    "                \"metadataField\": \"text-metadata\"\n",
    "            }\n",
    "        }\n",
    "\n",
    "chunkingStrategyConfiguration = {\n",
    "    \"chunkingStrategy\": \"NONE\",\n",
    "}\n",
    "\n",
    "s3Configuration = {\n",
    "    \"bucketArn\": f\"arn:aws:s3:::{bucket}\",\n",
    "    \"inclusionPrefixes\":[f\"{prefix}/{yml_dir.replace(data_dir+'/', '')}/\"] # you can use this if you want to create a KB using data within s3 prefixes.\n",
    "}\n",
    "\n",
    "embeddingModelArn = f\"arn:aws:bedrock:{region_name}::foundation-model/amazon.titan-embed-text-v1\"\n",
    "\n",
    "kb_name = f\"bedrock-sample-knowledge-base-{suffix}\"\n",
    "description = \"Swagger OpenAPI knowledge base.\"\n",
    "roleArn = bedrock_kb_execution_role_arn"
   ]
  },
  {
   "cell_type": "markdown",
   "id": "6c12d9fc-a1e9-4607-9d7c-dbcd9b6b7f12",
   "metadata": {},
   "source": [
    "Provide the above configurations as input to the `create_knowledge_base` method, which will create the Knowledge base."
   ]
  },
  {
   "cell_type": "code",
   "execution_count": 39,
   "id": "d3f1013c-a0de-4c69-8308-9de70c20f92a",
   "metadata": {},
   "outputs": [],
   "source": [
    "# Create a KnowledgeBase\n",
    "from retrying import retry\n",
    "\n",
    "@retry(wait_random_min=1000, wait_random_max=2000,stop_max_attempt_number=7)\n",
    "def create_knowledge_base_func():\n",
    "    create_kb_response = bedrock_agent_client.create_knowledge_base(\n",
    "        name = kb_name,\n",
    "        description = description,\n",
    "        roleArn = roleArn,\n",
    "        knowledgeBaseConfiguration = {\n",
    "            \"type\": \"VECTOR\",\n",
    "            \"vectorKnowledgeBaseConfiguration\": {\n",
    "                \"embeddingModelArn\": embeddingModelArn\n",
    "            }\n",
    "        },\n",
    "        storageConfiguration = {\n",
    "            \"type\": \"OPENSEARCH_SERVERLESS\",\n",
    "            \"opensearchServerlessConfiguration\":opensearchServerlessConfiguration\n",
    "        }\n",
    "    )\n",
    "    return create_kb_response[\"knowledgeBase\"]"
   ]
  },
  {
   "cell_type": "code",
   "execution_count": 40,
   "id": "537d81d1-b296-4a7a-bef3-22a7452b54d0",
   "metadata": {},
   "outputs": [],
   "source": [
    "try:\n",
    "    kb = create_knowledge_base_func()\n",
    "except Exception as err:\n",
    "    print(f\"{err=}, {type(err)=}\")"
   ]
  },
  {
   "cell_type": "markdown",
   "id": "46b97f45-49e0-440e-be3c-10b4d1fe7757",
   "metadata": {},
   "source": [
    "Next we need to create a data source, which will be associated with the knowledge base created above. Once the data source is ready, we can then start to ingest the documents."
   ]
  },
  {
   "cell_type": "code",
   "execution_count": 41,
   "id": "aa977390-1cbb-4b82-8626-7f0300033ea0",
   "metadata": {},
   "outputs": [],
   "source": [
    "# Get KnowledgeBase \n",
    "get_kb_response = bedrock_agent_client.get_knowledge_base(knowledgeBaseId = kb['knowledgeBaseId'])"
   ]
  },
  {
   "cell_type": "code",
   "execution_count": 43,
   "id": "c84b2d1b-6708-4dd0-a828-82d4ee5acf16",
   "metadata": {},
   "outputs": [
    {
     "name": "stdout",
     "output_type": "stream",
     "text": [
      "{'createdAt': datetime.datetime(2024, 6, 1, 15, 20, 35, 543734, tzinfo=tzlocal()),\n",
      " 'dataSourceConfiguration': {'s3Configuration': {'bucketArn': 'arn:aws:s3:::sagemaker-us-west-2-376678947624',\n",
      "                                                 'inclusionPrefixes': ['swagger_codegen/yml_files/']},\n",
      "                             'type': 'S3'},\n",
      " 'dataSourceId': 'AUUPDSYBQM',\n",
      " 'description': 'Swagger OpenAPI knowledge base.',\n",
      " 'knowledgeBaseId': 'QP6UWHHXH1',\n",
      " 'name': 'bedrock-sample-knowledge-base-1467',\n",
      " 'status': 'AVAILABLE',\n",
      " 'updatedAt': datetime.datetime(2024, 6, 1, 15, 20, 35, 543734, tzinfo=tzlocal()),\n",
      " 'vectorIngestionConfiguration': {'chunkingConfiguration': {'chunkingStrategy': 'NONE'}}}\n"
     ]
    }
   ],
   "source": [
    "# Create a DataSource in KnowledgeBase \n",
    "create_ds_response = bedrock_agent_client.create_data_source(\n",
    "    name = kb_name,\n",
    "    description = description,\n",
    "    knowledgeBaseId = kb['knowledgeBaseId'],\n",
    "    dataSourceConfiguration = {\n",
    "        \"type\": \"S3\",\n",
    "        \"s3Configuration\":s3Configuration\n",
    "    },\n",
    "    vectorIngestionConfiguration = {\n",
    "        \"chunkingConfiguration\": chunkingStrategyConfiguration\n",
    "    }\n",
    ")\n",
    "ds = create_ds_response[\"dataSource\"]\n",
    "# # It can take up to a minute for data access rules to be enforced\n",
    "time.sleep(20)\n",
    "pp.pprint(ds)"
   ]
  },
  {
   "cell_type": "markdown",
   "id": "885a1a07-68bd-4472-aa0f-e3ecc541aa75",
   "metadata": {},
   "source": [
    "### Start ingestion job\n",
    "Once the KB and data source is created, we can start the ingestion job.\n",
    "During the ingestion job, KB will fetch the documents in the data source, pre-process it to extract text, chunk it based on the chunking size provided, create embeddings of each chunk and then write it to the vector database, in this case OSS."
   ]
  },
  {
   "cell_type": "code",
   "execution_count": 44,
   "id": "4d89ee2c-4757-4ab0-a4fe-df4cb810cecd",
   "metadata": {},
   "outputs": [],
   "source": [
    "# Start an ingestion job\n",
    "start_job_response = bedrock_agent_client.start_ingestion_job(knowledgeBaseId = kb['knowledgeBaseId'], dataSourceId = ds[\"dataSourceId\"])"
   ]
  },
  {
   "cell_type": "code",
   "execution_count": 45,
   "id": "e4d27676-0634-4005-bdc7-95b79e7f36fc",
   "metadata": {},
   "outputs": [
    {
     "name": "stdout",
     "output_type": "stream",
     "text": [
      "{'dataSourceId': 'AUUPDSYBQM',\n",
      " 'ingestionJobId': '2QYKAD1L2L',\n",
      " 'knowledgeBaseId': 'QP6UWHHXH1',\n",
      " 'startedAt': datetime.datetime(2024, 6, 1, 15, 27, 45, 494677, tzinfo=tzlocal()),\n",
      " 'statistics': {'numberOfDocumentsDeleted': 0,\n",
      "                'numberOfDocumentsFailed': 0,\n",
      "                'numberOfDocumentsScanned': 0,\n",
      "                'numberOfModifiedDocumentsIndexed': 0,\n",
      "                'numberOfNewDocumentsIndexed': 0},\n",
      " 'status': 'STARTING',\n",
      " 'updatedAt': datetime.datetime(2024, 6, 1, 15, 27, 45, 494677, tzinfo=tzlocal())}\n"
     ]
    }
   ],
   "source": [
    "job = start_job_response[\"ingestionJob\"]\n",
    "pp.pprint(job)"
   ]
  },
  {
   "cell_type": "code",
   "execution_count": 46,
   "id": "b235dae5-99be-4af2-8c33-db4c6c101830",
   "metadata": {},
   "outputs": [
    {
     "name": "stdout",
     "output_type": "stream",
     "text": [
      "{'dataSourceId': 'AUUPDSYBQM',\n",
      " 'ingestionJobId': '2QYKAD1L2L',\n",
      " 'knowledgeBaseId': 'QP6UWHHXH1',\n",
      " 'startedAt': datetime.datetime(2024, 6, 1, 15, 27, 45, 494677, tzinfo=tzlocal()),\n",
      " 'statistics': {'numberOfDocumentsDeleted': 0,\n",
      "                'numberOfDocumentsFailed': 0,\n",
      "                'numberOfDocumentsScanned': 5,\n",
      "                'numberOfModifiedDocumentsIndexed': 0,\n",
      "                'numberOfNewDocumentsIndexed': 5},\n",
      " 'status': 'COMPLETE',\n",
      " 'updatedAt': datetime.datetime(2024, 6, 1, 15, 27, 55, 714191, tzinfo=tzlocal())}\n"
     ]
    }
   ],
   "source": [
    "# Get job \n",
    "while(job['status']!='COMPLETE' ):\n",
    "  get_job_response = bedrock_agent_client.get_ingestion_job(\n",
    "      knowledgeBaseId = kb['knowledgeBaseId'],\n",
    "        dataSourceId = ds[\"dataSourceId\"],\n",
    "        ingestionJobId = job[\"ingestionJobId\"]\n",
    "  )\n",
    "  job = get_job_response[\"ingestionJob\"]\n",
    "pp.pprint(job)\n",
    "time.sleep(80)"
   ]
  },
  {
   "cell_type": "code",
   "execution_count": 47,
   "id": "522280f4-7246-4295-a9cf-361bc9f8a79d",
   "metadata": {},
   "outputs": [
    {
     "name": "stdout",
     "output_type": "stream",
     "text": [
      "Stored 'kb_id' (str)\n",
      "'QP6UWHHXH1'\n"
     ]
    }
   ],
   "source": [
    "kb_id = kb[\"knowledgeBaseId\"]\n",
    "%store kb_id\n",
    "pp.pprint(kb_id)"
   ]
  },
  {
   "cell_type": "markdown",
   "id": "fbd0c915-9eae-41f8-8f55-0a08ee148496",
   "metadata": {},
   "source": [
    "## Test the knowledge base\n",
    "### Using RetrieveAndGenerate API\n",
    "Behind the scenes, RetrieveAndGenerate API converts queries into embeddings, searches the knowledge base, and then augments the foundation model prompt with the search results as context information and returns the FM-generated response to the question. For multi-turn conversations, Knowledge Bases manage short-term memory of the conversation to provide more contextual results.\n",
    "\n",
    "The output of the RetrieveAndGenerate API includes the generated response, source attribution as well as the retrieved text chunks."
   ]
  },
  {
   "cell_type": "code",
   "execution_count": 48,
   "id": "9da746fb-6bd8-470e-aaae-d7be31ce2acc",
   "metadata": {},
   "outputs": [],
   "source": [
    "# try out KB using RetrieveAndGenerate API\n",
    "bedrock_agent_runtime_client = boto3_session.client(\"bedrock-agent-runtime\", \n",
    "                                                    config=boto3_config)\n",
    "model_id = \"anthropic.claude-3-sonnet-20240229-v1:0\" # try with both claude instant as well as claude-v2. for claude v2 - \"anthropic.claude-v2\"\n",
    "model_arn = f'arn:aws:bedrock:{region_name}::foundation-model/{model_id}'"
   ]
  },
  {
   "cell_type": "code",
   "execution_count": 49,
   "id": "a5fa3c4d-6429-47c9-be7b-f461fae74b91",
   "metadata": {
    "scrolled": true
   },
   "outputs": [
    {
     "data": {
      "text/markdown": [
       "To add a new pet to the Petstore API, you need to send a POST request to the /pets endpoint with the pet details in the request body. According to the OpenAPI specification in source 5, the request body should contain a JSON object following the NewPet schema, which requires at least the \"name\" property. Here's an example Python code using the requests library to add a new pet:\n",
       "\n",
       "import requests\n",
       "\n",
       "url = \"https://petstore.swagger.io/v2/pets\"\n",
       "\n",
       "payload = {\n",
       "    \"name\": \"Buddy\",\n",
       "    \"tag\": \"dog\"\n",
       "}\n",
       "\n",
       "headers = {\n",
       "    'Content-Type': 'application/json'\n",
       "}\n",
       "\n",
       "response = requests.request(\"POST\", url, headers=headers, json=payload)\n",
       "\n",
       "if response.status_code == 200:\n",
       "    print(\"Pet added successfully!\")\n",
       "    print(response.json())\n",
       "else:\n",
       "    print(f\"Error: {response.status_code} - {response.text}\")"
      ],
      "text/plain": [
       "<IPython.core.display.Markdown object>"
      ]
     },
     "metadata": {},
     "output_type": "display_data"
    }
   ],
   "source": [
    "from IPython.display import Markdown, display\n",
    "\n",
    "query = \"How do I add a new pet to petstore? Can you generate a test code in python?\"\n",
    "response = bedrock_agent_runtime_client.retrieve_and_generate(\n",
    "    input={\n",
    "        'text': query\n",
    "    },\n",
    "    retrieveAndGenerateConfiguration={\n",
    "        'type': 'KNOWLEDGE_BASE',\n",
    "        'knowledgeBaseConfiguration': {\n",
    "            'knowledgeBaseId': kb_id,\n",
    "            'modelArn': model_arn\n",
    "        }\n",
    "    },\n",
    ")\n",
    "\n",
    "generated_text = response['output']['text']\n",
    "\n",
    "display(Markdown(generated_text))"
   ]
  },
  {
   "cell_type": "markdown",
   "id": "eb42e633-e3e3-4b5e-801f-9f0a38d941fc",
   "metadata": {},
   "source": [
    "## Create the Lambda Function\n",
    "We will now create a lambda function that to generate code and uml diagrams:\n",
    "\n",
    "Create the lambda_function.py file which contains the logic for our lambda function\n",
    "Create the IAM role for our Lambda function\n",
    "Create the lambda function with the required permissions\n",
    "Create the function code\n",
    "When creating an Agent for Amazon Bedrock, you can connect a Lambda function to the Action Group in order to execute the functions required by the agent. "
   ]
  },
  {
   "cell_type": "code",
   "execution_count": 20,
   "id": "aa00ee8d-07f8-489b-904f-a64dfb16cc87",
   "metadata": {},
   "outputs": [
    {
     "name": "stdout",
     "output_type": "stream",
     "text": [
      "Overwriting lambda_function.py\n"
     ]
    }
   ],
   "source": [
    "%%writefile lambda_function.py\n",
    "import json\n",
    "import uuid\n",
    "import boto3\n",
    "from botocore.config import Config\n",
    "\n",
    "boto_config = Config(\n",
    "        connect_timeout=1, read_timeout=300,\n",
    "        retries={'max_attempts': 1})\n",
    "\n",
    "boto_session = boto3.Session()\n",
    "\n",
    "bedrock_runtime = boto_session.client(\n",
    "    service_name=\"bedrock-runtime\",\n",
    "    config=boto_config\n",
    ")\n",
    "\n",
    "code_generation = \"\"\"\n",
    "Your task is to generate a code snippet based on a given OpenAPI YAML file and a user query. The\n",
    "YAML file will be provided in the following format:\n",
    "\n",
    "<YAML_FILE>\n",
    "{YAML_FILE}\n",
    "</YAML_FILE>\n",
    "\n",
    "The user query will be provided like this:\n",
    "\n",
    "<USER_QUERY>\n",
    "{USER_QUERY}\n",
    "</USER_QUERY>\n",
    "\n",
    "To complete this task, follow these steps:\n",
    "\n",
    "1. Carefully read and understand the user query. Identify the specific API endpoint, HTTP method,\n",
    "and any required parameters or request body mentioned in the query.\n",
    "\n",
    "2. Analyze the provided YAML file and locate the relevant section that corresponds to the user's\n",
    "query. The YAML file follows the OpenAPI specification and contains information about the API's\n",
    "endpoints, methods, parameters, request/response bodies, etc.\n",
    "\n",
    "3. Once you have identified the relevant section in the YAML file, extract the necessary information\n",
    "to construct the code snippet, such as the endpoint URL, HTTP method, required parameters, and\n",
    "request body structure (if applicable).\n",
    "\n",
    "4. Use the extracted information to generate the code snippet in the programming language specified\n",
    "by the user (e.g., Python, JavaScript, etc.). The code snippet should include the necessary\n",
    "imports/libraries, the API endpoint URL, the HTTP method, any required parameters, and the request\n",
    "body (if applicable).\n",
    "\n",
    "5. Format the generated code snippet using markdown code blocks, like this:\n",
    "\n",
    "```<programming_language>\n",
    "<code_snippet>\n",
    "```\n",
    "\n",
    "This will allow the user to easily copy and paste the code snippet.\n",
    "\n",
    "6. If the user's query cannot be fulfilled based on the provided YAML file, or if there is any\n",
    "ambiguity or missing information, explain the issue politely and ask for clarification from the\n",
    "user.\n",
    "\n",
    "Remember, your goal is to generate a code snippet that accurately reflects the user's query based on\n",
    "the information provided in the OpenAPI YAML file. Do not include any additional functionality or\n",
    "code beyond what is necessary to fulfill the user's request.\n",
    "\"\"\"\n",
    "\n",
    "def get_named_parameter(event, name):\n",
    "    \"\"\"\n",
    "    Get a parameter from the lambda event\n",
    "    \"\"\"\n",
    "    return next(item for item in event['parameters'] if item['name'] == name)['value']\n",
    "\n",
    "def get_uml_diagram(yml_code):\n",
    "    \"\"\"\n",
    "    Get a UML Diagram\n",
    "\n",
    "    Save image to S3\n",
    "    \"\"\"\n",
    "\n",
    "    return {\"imageUrl\":\"s3://test-bucket/prefix/image.jpg\"}\n",
    "\n",
    "\n",
    "def get_unit_test_code(yml_code, query):\n",
    "    \"\"\"\n",
    "    Generate unit test code to invoke an API\n",
    "    \n",
    "    \"\"\"\n",
    "    content = []\n",
    "\n",
    "    prompt = code_generation.replace(\"{YAML_FILE}\",yml_code)\n",
    "    prompt = prompt.replace(\"{USER_QUERY}\",query)\n",
    "\n",
    "    query_obj = {\"type\": \"text\", \"text\": prompt}\n",
    "\n",
    "    content.append(query_obj)\n",
    "\n",
    "    body = json.dumps(\n",
    "        {\n",
    "            \"anthropic_version\": \"bedrock-2023-05-31\",\n",
    "            \"max_tokens\": 4096,\n",
    "            \"messages\": [\n",
    "                {\n",
    "                    \"role\": \"user\",\n",
    "                    \"content\": content,\n",
    "                }\n",
    "            ],\n",
    "        }\n",
    "    )\n",
    "    \n",
    "    response = bedrock_runtime.invoke_model(\n",
    "        modelId=\"anthropic.claude-3-sonnet-20240229-v1:0\",\n",
    "        body=body)\n",
    "    \n",
    "    response_body = json.loads(response.get(\"body\").read())\n",
    "    \n",
    "    return {\"codeBody\": response_body[\"content\"][0][\"text\"]}\n",
    "\n",
    "def lambda_handler(event, context):\n",
    "    # get the action group used during the invocation of the lambda function\n",
    "    actionGroup = event.get('actionGroup', '')\n",
    "    \n",
    "    # name of the function that should be invoked\n",
    "    function = event.get('function', '')\n",
    "    \n",
    "    # parameters to invoke function with\n",
    "    parameters = event.get('parameters', [])\n",
    "\n",
    "    if function == 'get_uml_diagram':\n",
    "        yml_code = get_named_parameter(event, \"yml_body\")\n",
    "        if yml_code:\n",
    "            response = get_uml_diagram(yml_code)\n",
    "            responseBody = {'TEXT': {'body': json.dumps(response)}}\n",
    "        else:\n",
    "            responseBody = {'TEXT': {'body': 'Missing YML code.'}}\n",
    "\n",
    "    elif function == 'get_unit_test_code':\n",
    "        yml_code = get_named_parameter(event, \"yml_body\")\n",
    "        user_query = get_named_parameter(event, \"user_query\")\n",
    "\n",
    "        if yml_code:\n",
    "            response = get_unit_test_code(yml_code, user_query)\n",
    "            responseBody = {'TEXT': {'body': json.dumps(response)}}\n",
    "        else:\n",
    "            responseBody = {'TEXT': {'body': 'Missing YML code.'}}\n",
    "\n",
    "    else:\n",
    "        responseBody = {'TEXT': {'body': 'Invalid function'}}\n",
    "\n",
    "    action_response = {\n",
    "        'actionGroup': actionGroup,\n",
    "        'function': function,\n",
    "        'functionResponse': {\n",
    "            'responseBody': responseBody\n",
    "        }\n",
    "    }\n",
    "\n",
    "    function_response = {'response': action_response, 'messageVersion': event['messageVersion']}\n",
    "    print(\"Response: {}\".format(function_response))\n",
    "\n",
    "    return function_response"
   ]
  },
  {
   "cell_type": "code",
   "execution_count": 21,
   "id": "6f18f7f2-cfe9-4397-9049-3e6e3a36db18",
   "metadata": {},
   "outputs": [],
   "source": [
    "from utility import create_lambda_role\n",
    "from utility import create_lambda\n",
    "\n",
    "agent_name = f'swagger-api-agent-{suffix}'\n",
    "lambda_iam_role = create_lambda_role(agent_name)"
   ]
  },
  {
   "cell_type": "markdown",
   "id": "fd709257-7174-481d-9a9d-59c4babd0ce4",
   "metadata": {},
   "source": [
    "### Create the function\n",
    "Now that we have the Lambda function code and its execution role, let's package it into a Zip file and create the Lambda resources"
   ]
  },
  {
   "cell_type": "code",
   "execution_count": 22,
   "id": "6770efff-1d6e-4d7a-9e40-b4d60010dfd0",
   "metadata": {},
   "outputs": [],
   "source": [
    "lambda_function_name = f'{agent_name}-lambda'\n",
    "lambda_function = create_lambda(lambda_function_name, lambda_iam_role)"
   ]
  },
  {
   "cell_type": "markdown",
   "id": "304242f2-85db-4436-b3b0-2d076e5fff5f",
   "metadata": {},
   "source": [
    "## Create the Agent\n",
    "Once the needed IAM role is created, we can use the bedrock agent client to create a new agent. To do so we use the create_agent api from boto3. It requires an agent name, underline foundation model and instruction. You can also provide an agent description. Note that the agent created is not yet prepared. We will focus on preparing the agent and then using it to invoke actions and use other APIs"
   ]
  },
  {
   "cell_type": "code",
   "execution_count": 23,
   "id": "43c48c1d-a03b-4cdf-8f61-07eb32acd122",
   "metadata": {},
   "outputs": [],
   "source": [
    "agent_instruction = \"\"\"\n",
    "You are an agent designed to support users with coding questions related to Swagger APIs. You have access to the Swagger\n",
    "documentation in a Knowledge Base and you can answer questions from this document or use document as referecne to generate\n",
    "code or uml flow diagrams. Only answer questions based on the documentation and reply with \"There is no information about your \n",
    "question in the Documentation at the moment, sorry! Do you want to ask another question?\"  If the answer to the question \n",
    "is not available in the documentation\n",
    "\"\"\"\n",
    "\n",
    "agent_action_group_description = \"\"\"\n",
    "Actions for generating test code and uml diagrams\n",
    "\"\"\""
   ]
  },
  {
   "cell_type": "code",
   "execution_count": 24,
   "id": "a524c3ec-cab3-4e26-b73d-7979bee2796e",
   "metadata": {},
   "outputs": [
    {
     "data": {
      "text/plain": [
       "'7D7B093TDO'"
      ]
     },
     "execution_count": 24,
     "metadata": {},
     "output_type": "execute_result"
    }
   ],
   "source": [
    "response = bedrock_agent_client.create_agent(\n",
    "    agentName=agent_name,\n",
    "    agentResourceRoleArn=roleArn,\n",
    "    description=\"This Agent supports Swagger API Developers to answer question, generate code, or create uml flow diagrams\",\n",
    "    idleSessionTTLInSeconds=1800,\n",
    "    foundationModel=model_id,\n",
    "    instruction=agent_instruction,\n",
    ")\n",
    "\n",
    "agent_id = response['agent']['agentId']\n",
    "agent_id"
   ]
  },
  {
   "cell_type": "markdown",
   "id": "30167325-43ae-467f-9526-d5b8bef8f99f",
   "metadata": {},
   "source": [
    "## Create the Agent Action Group\n",
    "\n",
    "We will now create an agent action group that uses the lambda function created before. The create_agent_action_group function provides this functionality. We will use DRAFT as the agent version since we haven't yet created an agent version or alias. To inform the agent about the action group functionalities, we will provide an action group description containing the functionalities of the action group.\n",
    "\n",
    "In this example, we will provide the Action Group functionality using a functionSchema.\n",
    "\n",
    "To define the functions using a function schema, you need to provide the name, description and parameters for each function."
   ]
  },
  {
   "cell_type": "code",
   "execution_count": 25,
   "id": "39a49bcc-89b3-4506-966f-ea8eae2e54da",
   "metadata": {},
   "outputs": [],
   "source": [
    "agent_functions = [\n",
    "    {\n",
    "        'name': 'get_uml_diagram',\n",
    "        'description': 'Generate a UML flow diagram referencing the OpenAPI API specification. the function return S3 location of the image ONLY.',\n",
    "        'parameters': {\n",
    "            \"yml_body\": {\n",
    "                \"description\": \"openapi standard yml file of the swagger api\",\n",
    "                \"required\": True,\n",
    "                \"type\": \"string\"\n",
    "            }\n",
    "        }\n",
    "    },\n",
    "    {\n",
    "        'name': 'get_unit_test_code',\n",
    "        'description': 'Generate functional testing code referencing the OpenAPI API specification. the function returns the code snippet.',\n",
    "        'parameters': {\n",
    "            \"yml_body\": {\n",
    "                \"description\": \"openapi standard yml file of the swagger api\",\n",
    "                \"required\": True,\n",
    "                \"type\": \"string\"\n",
    "            },\n",
    "            \"user_query\": {\n",
    "                \"description\": \"question from user or code user wants to generate\",\n",
    "                \"required\": True,\n",
    "                \"type\": \"string\"\n",
    "            }\n",
    "        }\n",
    "    },\n",
    "]"
   ]
  },
  {
   "cell_type": "markdown",
   "id": "b4633e73-99fe-4e06-9a98-fda49011b671",
   "metadata": {},
   "source": [
    "We now use the function schema to create the agent action group using the create_agent_action_group API"
   ]
  },
  {
   "cell_type": "code",
   "execution_count": 26,
   "id": "38beaab6-a94e-4749-84e1-c817ab3923c3",
   "metadata": {},
   "outputs": [],
   "source": [
    "# Pause to make sure agent is created\n",
    "time.sleep(30)\n",
    "\n",
    "# Now, we can configure and create an action group here:\n",
    "agent_action_group_response = bedrock_agent_client.create_agent_action_group(\n",
    "    agentId=agent_id,\n",
    "    agentVersion='DRAFT',\n",
    "    actionGroupExecutor={\n",
    "        'lambda': lambda_function['FunctionArn']\n",
    "    },\n",
    "    actionGroupName=\"CodeAndDiagramActionGroup\",\n",
    "    functionSchema={\n",
    "        'functions': agent_functions\n",
    "    },\n",
    "    description=agent_action_group_description\n",
    ")"
   ]
  },
  {
   "cell_type": "markdown",
   "id": "92b09343-fa92-4364-ae88-a266781c5cdb",
   "metadata": {},
   "source": [
    "## Allow the Agent to invoke the Action Group Lambda\n",
    "Before using the action group, we need to allow the agent to invoke the lambda function associated with the action group. This is done via resource-based policy. Let's add the resource-based policy to the lambda function created"
   ]
  },
  {
   "cell_type": "code",
   "execution_count": 27,
   "id": "025491a4-79ac-4029-b792-ee8f53172da6",
   "metadata": {},
   "outputs": [],
   "source": [
    "# Create allow to invoke permission on lambda\n",
    "lambda_client = boto3.client('lambda')\n",
    "response = lambda_client.add_permission(\n",
    "    FunctionName=lambda_function_name,\n",
    "    StatementId='allow_bedrock',\n",
    "    Action='lambda:InvokeFunction',\n",
    "    Principal='bedrock.amazonaws.com',\n",
    "    SourceArn=f\"arn:aws:bedrock:{region_name}:{account_id}:agent/{agent_id}\",\n",
    ")"
   ]
  },
  {
   "cell_type": "markdown",
   "id": "d5a5b116-c19f-400f-9788-04e06cae89fc",
   "metadata": {},
   "source": [
    "## Associate the Knowledge Base to the agent\n",
    "Now we have created the Agent we can go ahead and associate the Knowledge Base we created earlier."
   ]
  },
  {
   "cell_type": "code",
   "execution_count": 28,
   "id": "1ce52ccc-98e5-41dc-913e-b1dd474fdf58",
   "metadata": {},
   "outputs": [],
   "source": [
    "agent_kb_description = bedrock_agent_client.associate_agent_knowledge_base(\n",
    "    agentId=agent_id,\n",
    "    agentVersion='DRAFT',\n",
    "    description=f'Use the information in the {kb_name} knowledge base to retrieve OpenAPI Specification in YML format',\n",
    "    knowledgeBaseId=kb_id,\n",
    "    knowledgeBaseState='ENABLED'\n",
    ")"
   ]
  },
  {
   "cell_type": "markdown",
   "id": "18c374aa-2052-44d5-be43-5b597848ab68",
   "metadata": {},
   "source": [
    "## Prepare the Agent and create an alias\n",
    "Let's create a DRAFT version of the agent that can be used for internal testing."
   ]
  },
  {
   "cell_type": "code",
   "execution_count": 29,
   "id": "6604e541-dd06-4f3a-894f-e09f7efe0d25",
   "metadata": {},
   "outputs": [],
   "source": [
    "agent_prepare = bedrock_agent_client.prepare_agent(agentId=agent_id)\n",
    "agent_prepare\n",
    "time.sleep(30)"
   ]
  },
  {
   "cell_type": "code",
   "execution_count": 30,
   "id": "b98898bb-f198-4206-bad4-ad995e91aa02",
   "metadata": {},
   "outputs": [],
   "source": [
    "# Pause to make sure agent is prepared\n",
    "agent_alias_name = f\"swagger-docs-action-alias-{suffix}5\"\n",
    "\n",
    "agent_alias = bedrock_agent_client.create_agent_alias(\n",
    "    agentId=agent_id,\n",
    "    agentAliasName=agent_alias_name\n",
    ")\n",
    "agent_alias_id = agent_alias[\"agentAlias\"][\"agentAliasId\"]\n",
    "\n",
    "# Pause to make sure agent alias is ready\n",
    "time.sleep(60)"
   ]
  },
  {
   "cell_type": "markdown",
   "id": "c7196967-ea84-4fa7-b84e-37806f83cfe8",
   "metadata": {},
   "source": [
    "## Test the Agent\n",
    "Now that we've created the agent, let's use the bedrock-agent-runtime client to invoke this agent and perform some tasks. You can invoke your agent with the invoke_agent API"
   ]
  },
  {
   "cell_type": "code",
   "execution_count": 31,
   "id": "69667a9b-a989-47fc-8538-5e552ba5c617",
   "metadata": {},
   "outputs": [],
   "source": [
    "def invokeAgent(query, session_id, enable_trace=False, session_state=dict()):\n",
    "    end_session:bool = False\n",
    "    \n",
    "    # invoke the agent API\n",
    "    agentResponse = bedrock_agent_runtime_client.invoke_agent(\n",
    "        inputText=query,\n",
    "        agentId=agent_id,\n",
    "        agentAliasId=agent_alias_id, \n",
    "        sessionId=session_id,\n",
    "        enableTrace=enable_trace, \n",
    "        endSession= end_session,\n",
    "        sessionState=session_state\n",
    "    )\n",
    "    \n",
    "    if enable_trace:\n",
    "        pp.pprint(agentResponse)\n",
    "    \n",
    "    event_stream = agentResponse['completion']\n",
    "    try:\n",
    "        for event in event_stream:        \n",
    "            if 'chunk' in event:\n",
    "                data = event['chunk']['bytes']\n",
    "                if enable_trace:\n",
    "                    pp.pprint(f\"Final answer ->\\n{data.decode('utf8')}\")\n",
    "                agent_answer = data.decode('utf8')\n",
    "                end_event_received = True\n",
    "                return agent_answer\n",
    "                # End event indicates that the request finished successfully\n",
    "            elif 'trace' in event:\n",
    "                if enable_trace:\n",
    "                    pp.pprint(json.dumps(event['trace'], indent=2))\n",
    "            else:\n",
    "                raise Exception(\"unexpected event.\", event)\n",
    "    except Exception as e:\n",
    "        raise Exception(\"unexpected event.\", e)"
   ]
  },
  {
   "cell_type": "markdown",
   "id": "a3e34222-ceb4-4616-8c0f-303a24eba60c",
   "metadata": {},
   "source": [
    "Invoke Agent to query Knowledge Base\n",
    "Let's now use our support `invokeAgent` function to query our Knowledge Base with the Agent"
   ]
  },
  {
   "cell_type": "code",
   "execution_count": 49,
   "id": "cb0be39c-f332-4a3d-a1c9-37818288f45b",
   "metadata": {
    "scrolled": true
   },
   "outputs": [
    {
     "data": {
      "text/markdown": [
       "Here is the UML flow diagram for the Petstore Swagger API generated based on the OpenAPI specification:\n",
       "\n",
       "[UML Diagram Image]\n",
       "{imageUrl: s3://test-bucket/prefix/image.jpg}\n",
       "\n",
       "The diagram shows the different API endpoints (/pets, /pets/{id}) and the HTTP methods (GET, POST, DELETE) supported for the Pet resource. It also depicts the request/response flow and data models (Pet, NewPet, Error) involved."
      ],
      "text/plain": [
       "<IPython.core.display.Markdown object>"
      ]
     },
     "metadata": {},
     "output_type": "display_data"
    },
    {
     "name": "stdout",
     "output_type": "stream",
     "text": [
      "CPU times: user 12.7 ms, sys: 3.09 ms, total: 15.8 ms\n",
      "Wall time: 35.3 s\n"
     ]
    }
   ],
   "source": [
    "%%time\n",
    "import uuid\n",
    "session_id:str = str(uuid.uuid1())\n",
    "query = \"Can you generate a uml diagram for the Petstore swagger api?\" #\"How do I add a new pet using the petstore api? Can you generate a test code in python?\" #\n",
    "response = invokeAgent(query, session_id, enable_trace=False)\n",
    "display(Markdown(response))"
   ]
  },
  {
   "cell_type": "code",
   "execution_count": 51,
   "id": "20c008e5-5df2-45be-904d-edcbee580549",
   "metadata": {},
   "outputs": [
    {
     "data": {
      "text/markdown": [
       "import requests\n",
       "\n",
       "url = \"https://petstore.swagger.io/v2/pets\"\n",
       "\n",
       "payload = {\n",
       "    \"name\": \"Buddy\",\n",
       "    \"photoUrls\": [\n",
       "        \"https://example.com/buddy.jpg\"\n",
       "    ]\n",
       "}\n",
       "headers = {\n",
       "    'Content-Type': 'application/json'\n",
       "}\n",
       "\n",
       "response = requests.request(\"POST\", url, headers=headers, json=payload)\n",
       "\n",
       "if response.status_code == 200:\n",
       "    print(response.json())\n",
       "else:\n",
       "    print(f\"Error: {response.status_code} - {response.text}\")"
      ],
      "text/plain": [
       "<IPython.core.display.Markdown object>"
      ]
     },
     "metadata": {},
     "output_type": "display_data"
    },
    {
     "name": "stdout",
     "output_type": "stream",
     "text": [
      "CPU times: user 25.4 ms, sys: 4.8 ms, total: 30.2 ms\n",
      "Wall time: 42.2 s\n"
     ]
    }
   ],
   "source": [
    "%%time\n",
    "import uuid\n",
    "session_id:str = str(uuid.uuid1())\n",
    "query = \"How do I add a new pet using the petstore api? Can you generate a test code in python?\"\n",
    "response = invokeAgent(query, session_id, enable_trace=False)\n",
    "display(Markdown(response))"
   ]
  },
  {
   "cell_type": "code",
   "execution_count": null,
   "id": "065f0074-d8ed-431d-bc6a-ebf5262f7d2b",
   "metadata": {},
   "outputs": [],
   "source": []
  }
 ],
 "metadata": {
  "kernelspec": {
   "display_name": "Python 3 (ipykernel)",
   "language": "python",
   "name": "python3"
  },
  "language_info": {
   "codemirror_mode": {
    "name": "ipython",
    "version": 3
   },
   "file_extension": ".py",
   "mimetype": "text/x-python",
   "name": "python",
   "nbconvert_exporter": "python",
   "pygments_lexer": "ipython3",
   "version": "3.10.14"
  }
 },
 "nbformat": 4,
 "nbformat_minor": 5
}
